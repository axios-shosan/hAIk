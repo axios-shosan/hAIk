{
  "metadata": {
    "kernelspec": {
      "language": "python",
      "display_name": "Python 3",
      "name": "python3"
    },
    "language_info": {
      "name": "python",
      "version": "3.7.12",
      "mimetype": "text/x-python",
      "codemirror_mode": {
        "name": "ipython",
        "version": 3
      },
      "pygments_lexer": "ipython3",
      "nbconvert_exporter": "python",
      "file_extension": ".py"
    },
    "colab": {
      "provenance": [],
      "include_colab_link": true
    }
  },
  "nbformat_minor": 0,
  "nbformat": 4,
  "cells": [
    {
      "cell_type": "markdown",
      "metadata": {
        "id": "view-in-github",
        "colab_type": "text"
      },
      "source": [
        "<a href=\"https://colab.research.google.com/github/axios-shosan/hAIk/blob/main/9az0ula_jumia.ipynb\" target=\"_parent\"><img src=\"https://colab.research.google.com/assets/colab-badge.svg\" alt=\"Open In Colab\"/></a>"
      ]
    },
    {
      "cell_type": "code",
      "source": [
        "# This Python 3 environment comes with many helpful analytics libraries installed\n",
        "# It is defined by the kaggle/python Docker image: https://github.com/kaggle/docker-python\n",
        "# For example, here's several helpful packages to load\n",
        "\n",
        "import numpy as np # linear algebra\n",
        "import pandas as pd # data processing, CSV file I/O (e.g. pd.read_csv)\n",
        "\n",
        "# Input data files are available in the read-only \"../input/\" directory\n",
        "# For example, running this (by clicking run or pressing Shift+Enter) will list all files under the input directory\n",
        "\n",
        "import os\n",
        "for dirname, _, filenames in os.walk('/kaggle/input'):\n",
        "    for filename in filenames:\n",
        "        print(os.path.join(dirname, filename))\n",
        "\n",
        "# You can write up to 20GB to the current directory (/kaggle/working/) that gets preserved as output when you create a version using \"Save & Run All\" \n",
        "# You can also write temporary files to /kaggle/temp/, but they won't be saved outside of the current session"
      ],
      "metadata": {
        "_uuid": "8f2839f25d086af736a60e9eeb907d3b93b6e0e5",
        "_cell_guid": "b1076dfc-b9ad-4769-8c92-a6c4dae69d19",
        "execution": {
          "iopub.status.busy": "2023-02-25T07:29:54.443275Z",
          "iopub.execute_input": "2023-02-25T07:29:54.443698Z",
          "iopub.status.idle": "2023-02-25T07:29:54.453874Z",
          "shell.execute_reply.started": "2023-02-25T07:29:54.443662Z",
          "shell.execute_reply": "2023-02-25T07:29:54.452953Z"
        },
        "trusted": true,
        "id": "zPDtGEng1ZsP",
        "outputId": "418f8a42-bbad-408d-beb2-b0618c409b7e"
      },
      "execution_count": null,
      "outputs": [
        {
          "name": "stdout",
          "text": "/kaggle/input/jumia-purchase-prediction/sample_submission.csv\n/kaggle/input/jumia-purchase-prediction/jum_test.csv\n/kaggle/input/jumia-purchase-prediction/jum_train.csv\n",
          "output_type": "stream"
        }
      ]
    },
    {
      "cell_type": "code",
      "source": [
        "import pandas as pd\n",
        "\n",
        "# Load the dataset into a DataFrame\n",
        "df = pd.read_csv('/kaggle/input/jumia-purchase-prediction/jum_train.csv')\n",
        "test = pd.read_csv('/kaggle/input/jumia-purchase-prediction/jum_test.csv')\n",
        "\n",
        "df = df.drop_duplicates()\n",
        "df = df.dropna()\n",
        "test.info()"
      ],
      "metadata": {
        "execution": {
          "iopub.status.busy": "2023-02-25T08:53:07.819151Z",
          "iopub.execute_input": "2023-02-25T08:53:07.819563Z",
          "iopub.status.idle": "2023-02-25T08:53:08.080273Z",
          "shell.execute_reply.started": "2023-02-25T08:53:07.819518Z",
          "shell.execute_reply": "2023-02-25T08:53:08.078873Z"
        },
        "trusted": true,
        "id": "R_c7Md6V1ZsV",
        "outputId": "87d15e3e-d077-4a8e-ba00-29e2b8f76085"
      },
      "execution_count": null,
      "outputs": [
        {
          "name": "stdout",
          "text": "<class 'pandas.core.frame.DataFrame'>\nInt64Index: 4479 entries, 0 to 4478\nData columns (total 10 columns):\n #   Column                 Non-Null Count  Dtype  \n---  ------                 --------------  -----  \n 0   Cust_id                4479 non-null   int64  \n 1   id_purchase            4479 non-null   object \n 2   CAT I                  4479 non-null   object \n 3   CAT II                 4479 non-null   object \n 4   revenue ( $ Algérien)  4479 non-null   float64\n 5   city                   4479 non-null   object \n 6   platform               4479 non-null   object \n 7   gender                 4479 non-null   object \n 8   Order date             4479 non-null   object \n 9   month                  4479 non-null   int64  \ndtypes: float64(1), int64(2), object(7)\nmemory usage: 384.9+ KB\n",
          "output_type": "stream"
        }
      ]
    },
    {
      "cell_type": "code",
      "source": [
        "import pandas as pd\n",
        "\n",
        "\n",
        "\n",
        "# convert numerical column to categorical type\n",
        "df['month'] = pd.Categorical(df['month'])\n",
        "\n",
        "# perform one-hot encoding\n",
        "one_hot = pd.get_dummies(df['month'], prefix='month')\n",
        "\n",
        "# merge one-hot encoded data with original dataframe\n",
        "df = pd.concat([df, one_hot], axis=1)\n",
        "\n",
        "\n",
        "# convert numerical column to categorical type\n",
        "test['month'] = pd.Categorical(test['month'])\n",
        "\n",
        "# perform one-hot encoding\n",
        "one_hot = pd.get_dummies(test['month'], prefix='month')\n",
        "\n",
        "# merge one-hot encoded data with original dataframe\n",
        "test = pd.concat([test, one_hot], axis=1)\n"
      ],
      "metadata": {
        "execution": {
          "iopub.status.busy": "2023-02-25T07:29:54.670525Z",
          "iopub.execute_input": "2023-02-25T07:29:54.671410Z",
          "iopub.status.idle": "2023-02-25T07:29:54.691612Z",
          "shell.execute_reply.started": "2023-02-25T07:29:54.671368Z",
          "shell.execute_reply": "2023-02-25T07:29:54.690463Z"
        },
        "trusted": true,
        "id": "L72NMtl41ZsX"
      },
      "execution_count": null,
      "outputs": []
    },
    {
      "cell_type": "code",
      "source": [
        "df.head()"
      ],
      "metadata": {
        "execution": {
          "iopub.status.busy": "2023-02-25T07:29:54.816547Z",
          "iopub.execute_input": "2023-02-25T07:29:54.816958Z",
          "iopub.status.idle": "2023-02-25T07:29:54.839312Z",
          "shell.execute_reply.started": "2023-02-25T07:29:54.816921Z",
          "shell.execute_reply": "2023-02-25T07:29:54.837814Z"
        },
        "trusted": true,
        "id": "yzvAO36p1Zsa",
        "outputId": "bc30a4c6-9551-4418-fba1-3bb156a6f748"
      },
      "execution_count": null,
      "outputs": [
        {
          "execution_count": 167,
          "output_type": "execute_result",
          "data": {
            "text/plain": "   Cust_id id_purchase              CAT I              CAT II  \\\n0   153926  5774DZ8526  Accessoire femmes                Sacs   \n1   153929  4224DZ8573  Accessoire femmes  Lunettes de soleil   \n2   153935  7178DZ8657  Accessoire femmes  Lunettes de soleil   \n3   153935  3598DZ8583  Accessoire femmes  Lunettes de soleil   \n4   153950  5142DZ8612  Accessoire femmes                Sacs   \n\n   revenue ( $ Algérien) city platform  gender  Order date month  month_1  \\\n0                55251.0    A      Web    male  2022-07-19     7        0   \n1               444479.0    A      Web    male  2022-07-19     7        0   \n2               242911.0    A      Web  female  2022-07-19     7        0   \n3               267374.0    A      Web  female  2022-07-20     7        0   \n4               102590.0    A      Web  female  2022-07-19     7        0   \n\n   month_7  month_8  month_9  month_10  month_11  month_12  \n0        1        0        0         0         0         0  \n1        1        0        0         0         0         0  \n2        1        0        0         0         0         0  \n3        1        0        0         0         0         0  \n4        1        0        0         0         0         0  ",
            "text/html": "<div>\n<style scoped>\n    .dataframe tbody tr th:only-of-type {\n        vertical-align: middle;\n    }\n\n    .dataframe tbody tr th {\n        vertical-align: top;\n    }\n\n    .dataframe thead th {\n        text-align: right;\n    }\n</style>\n<table border=\"1\" class=\"dataframe\">\n  <thead>\n    <tr style=\"text-align: right;\">\n      <th></th>\n      <th>Cust_id</th>\n      <th>id_purchase</th>\n      <th>CAT I</th>\n      <th>CAT II</th>\n      <th>revenue ( $ Algérien)</th>\n      <th>city</th>\n      <th>platform</th>\n      <th>gender</th>\n      <th>Order date</th>\n      <th>month</th>\n      <th>month_1</th>\n      <th>month_7</th>\n      <th>month_8</th>\n      <th>month_9</th>\n      <th>month_10</th>\n      <th>month_11</th>\n      <th>month_12</th>\n    </tr>\n  </thead>\n  <tbody>\n    <tr>\n      <th>0</th>\n      <td>153926</td>\n      <td>5774DZ8526</td>\n      <td>Accessoire femmes</td>\n      <td>Sacs</td>\n      <td>55251.0</td>\n      <td>A</td>\n      <td>Web</td>\n      <td>male</td>\n      <td>2022-07-19</td>\n      <td>7</td>\n      <td>0</td>\n      <td>1</td>\n      <td>0</td>\n      <td>0</td>\n      <td>0</td>\n      <td>0</td>\n      <td>0</td>\n    </tr>\n    <tr>\n      <th>1</th>\n      <td>153929</td>\n      <td>4224DZ8573</td>\n      <td>Accessoire femmes</td>\n      <td>Lunettes de soleil</td>\n      <td>444479.0</td>\n      <td>A</td>\n      <td>Web</td>\n      <td>male</td>\n      <td>2022-07-19</td>\n      <td>7</td>\n      <td>0</td>\n      <td>1</td>\n      <td>0</td>\n      <td>0</td>\n      <td>0</td>\n      <td>0</td>\n      <td>0</td>\n    </tr>\n    <tr>\n      <th>2</th>\n      <td>153935</td>\n      <td>7178DZ8657</td>\n      <td>Accessoire femmes</td>\n      <td>Lunettes de soleil</td>\n      <td>242911.0</td>\n      <td>A</td>\n      <td>Web</td>\n      <td>female</td>\n      <td>2022-07-19</td>\n      <td>7</td>\n      <td>0</td>\n      <td>1</td>\n      <td>0</td>\n      <td>0</td>\n      <td>0</td>\n      <td>0</td>\n      <td>0</td>\n    </tr>\n    <tr>\n      <th>3</th>\n      <td>153935</td>\n      <td>3598DZ8583</td>\n      <td>Accessoire femmes</td>\n      <td>Lunettes de soleil</td>\n      <td>267374.0</td>\n      <td>A</td>\n      <td>Web</td>\n      <td>female</td>\n      <td>2022-07-20</td>\n      <td>7</td>\n      <td>0</td>\n      <td>1</td>\n      <td>0</td>\n      <td>0</td>\n      <td>0</td>\n      <td>0</td>\n      <td>0</td>\n    </tr>\n    <tr>\n      <th>4</th>\n      <td>153950</td>\n      <td>5142DZ8612</td>\n      <td>Accessoire femmes</td>\n      <td>Sacs</td>\n      <td>102590.0</td>\n      <td>A</td>\n      <td>Web</td>\n      <td>female</td>\n      <td>2022-07-19</td>\n      <td>7</td>\n      <td>0</td>\n      <td>1</td>\n      <td>0</td>\n      <td>0</td>\n      <td>0</td>\n      <td>0</td>\n      <td>0</td>\n    </tr>\n  </tbody>\n</table>\n</div>"
          },
          "metadata": {}
        }
      ]
    },
    {
      "cell_type": "code",
      "source": [
        "test.head()"
      ],
      "metadata": {
        "execution": {
          "iopub.status.busy": "2023-02-25T07:29:54.977673Z",
          "iopub.execute_input": "2023-02-25T07:29:54.978119Z",
          "iopub.status.idle": "2023-02-25T07:29:55.000304Z",
          "shell.execute_reply.started": "2023-02-25T07:29:54.978081Z",
          "shell.execute_reply": "2023-02-25T07:29:54.998938Z"
        },
        "trusted": true,
        "id": "oFhVQkkE1Zsc",
        "outputId": "f44c8834-8593-46a4-d351-0ccdf0de0485"
      },
      "execution_count": null,
      "outputs": [
        {
          "execution_count": 168,
          "output_type": "execute_result",
          "data": {
            "text/plain": "   Cust_id id_purchase              CAT I              CAT II  \\\n0   153925  9137DZ8685  Accessoire femmes  Lunettes de soleil   \n1   153925  3290DZ8514  Accessoire femmes  Lunettes de soleil   \n2    15403  5431DZ8470  Accessoire femmes  Lunettes de soleil   \n3    15403  6262DZ8700  Accessoire femmes  Lunettes de soleil   \n4    15403  8904DZ8715  Accessoire femmes  Lunettes de soleil   \n\n   revenue ( $ Algérien) city platform gender  Order date month  month_7  \\\n0               181672.0    A      Web   male  2022-07-19     7        1   \n1               482394.0    A      Web   male  2022-07-19     7        1   \n2               116073.0    A      Web   male  2022-07-20     7        1   \n3               183709.0    A      Web   male  2022-07-20     7        1   \n4               273851.0    A      Web   male  2022-07-21     7        1   \n\n   month_8  month_9  \n0        0        0  \n1        0        0  \n2        0        0  \n3        0        0  \n4        0        0  ",
            "text/html": "<div>\n<style scoped>\n    .dataframe tbody tr th:only-of-type {\n        vertical-align: middle;\n    }\n\n    .dataframe tbody tr th {\n        vertical-align: top;\n    }\n\n    .dataframe thead th {\n        text-align: right;\n    }\n</style>\n<table border=\"1\" class=\"dataframe\">\n  <thead>\n    <tr style=\"text-align: right;\">\n      <th></th>\n      <th>Cust_id</th>\n      <th>id_purchase</th>\n      <th>CAT I</th>\n      <th>CAT II</th>\n      <th>revenue ( $ Algérien)</th>\n      <th>city</th>\n      <th>platform</th>\n      <th>gender</th>\n      <th>Order date</th>\n      <th>month</th>\n      <th>month_7</th>\n      <th>month_8</th>\n      <th>month_9</th>\n    </tr>\n  </thead>\n  <tbody>\n    <tr>\n      <th>0</th>\n      <td>153925</td>\n      <td>9137DZ8685</td>\n      <td>Accessoire femmes</td>\n      <td>Lunettes de soleil</td>\n      <td>181672.0</td>\n      <td>A</td>\n      <td>Web</td>\n      <td>male</td>\n      <td>2022-07-19</td>\n      <td>7</td>\n      <td>1</td>\n      <td>0</td>\n      <td>0</td>\n    </tr>\n    <tr>\n      <th>1</th>\n      <td>153925</td>\n      <td>3290DZ8514</td>\n      <td>Accessoire femmes</td>\n      <td>Lunettes de soleil</td>\n      <td>482394.0</td>\n      <td>A</td>\n      <td>Web</td>\n      <td>male</td>\n      <td>2022-07-19</td>\n      <td>7</td>\n      <td>1</td>\n      <td>0</td>\n      <td>0</td>\n    </tr>\n    <tr>\n      <th>2</th>\n      <td>15403</td>\n      <td>5431DZ8470</td>\n      <td>Accessoire femmes</td>\n      <td>Lunettes de soleil</td>\n      <td>116073.0</td>\n      <td>A</td>\n      <td>Web</td>\n      <td>male</td>\n      <td>2022-07-20</td>\n      <td>7</td>\n      <td>1</td>\n      <td>0</td>\n      <td>0</td>\n    </tr>\n    <tr>\n      <th>3</th>\n      <td>15403</td>\n      <td>6262DZ8700</td>\n      <td>Accessoire femmes</td>\n      <td>Lunettes de soleil</td>\n      <td>183709.0</td>\n      <td>A</td>\n      <td>Web</td>\n      <td>male</td>\n      <td>2022-07-20</td>\n      <td>7</td>\n      <td>1</td>\n      <td>0</td>\n      <td>0</td>\n    </tr>\n    <tr>\n      <th>4</th>\n      <td>15403</td>\n      <td>8904DZ8715</td>\n      <td>Accessoire femmes</td>\n      <td>Lunettes de soleil</td>\n      <td>273851.0</td>\n      <td>A</td>\n      <td>Web</td>\n      <td>male</td>\n      <td>2022-07-21</td>\n      <td>7</td>\n      <td>1</td>\n      <td>0</td>\n      <td>0</td>\n    </tr>\n  </tbody>\n</table>\n</div>"
          },
          "metadata": {}
        }
      ]
    },
    {
      "cell_type": "code",
      "source": [
        "df=df.drop('month',axis=1)\n",
        "df=df.drop('id_purchase',axis=1)\n",
        "df=df.drop('Order date',axis=1)\n",
        "df=df.drop('platform',axis=1)\n",
        "\n",
        "\n",
        "test=test.drop('month',axis=1)\n",
        "test=test.drop('id_purchase',axis=1)\n",
        "test=test.drop('Order date',axis=1)\n",
        "test=test.drop('platform',axis=1)"
      ],
      "metadata": {
        "execution": {
          "iopub.status.busy": "2023-02-25T07:29:55.328177Z",
          "iopub.execute_input": "2023-02-25T07:29:55.328586Z",
          "iopub.status.idle": "2023-02-25T07:29:55.362307Z",
          "shell.execute_reply.started": "2023-02-25T07:29:55.328551Z",
          "shell.execute_reply": "2023-02-25T07:29:55.361209Z"
        },
        "trusted": true,
        "id": "qe4uBTza1Zsd"
      },
      "execution_count": null,
      "outputs": []
    },
    {
      "cell_type": "code",
      "source": [
        "df.head()"
      ],
      "metadata": {
        "execution": {
          "iopub.status.busy": "2023-02-25T07:29:55.458288Z",
          "iopub.execute_input": "2023-02-25T07:29:55.458762Z",
          "iopub.status.idle": "2023-02-25T07:29:55.477364Z",
          "shell.execute_reply.started": "2023-02-25T07:29:55.458698Z",
          "shell.execute_reply": "2023-02-25T07:29:55.475493Z"
        },
        "trusted": true,
        "id": "6tKLyA0o1Zse",
        "outputId": "6c9d4b36-2cd9-442f-f5bd-7980ad5645de"
      },
      "execution_count": null,
      "outputs": [
        {
          "execution_count": 170,
          "output_type": "execute_result",
          "data": {
            "text/plain": "   Cust_id              CAT I              CAT II  revenue ( $ Algérien) city  \\\n0   153926  Accessoire femmes                Sacs                55251.0    A   \n1   153929  Accessoire femmes  Lunettes de soleil               444479.0    A   \n2   153935  Accessoire femmes  Lunettes de soleil               242911.0    A   \n3   153935  Accessoire femmes  Lunettes de soleil               267374.0    A   \n4   153950  Accessoire femmes                Sacs               102590.0    A   \n\n   gender  month_1  month_7  month_8  month_9  month_10  month_11  month_12  \n0    male        0        1        0        0         0         0         0  \n1    male        0        1        0        0         0         0         0  \n2  female        0        1        0        0         0         0         0  \n3  female        0        1        0        0         0         0         0  \n4  female        0        1        0        0         0         0         0  ",
            "text/html": "<div>\n<style scoped>\n    .dataframe tbody tr th:only-of-type {\n        vertical-align: middle;\n    }\n\n    .dataframe tbody tr th {\n        vertical-align: top;\n    }\n\n    .dataframe thead th {\n        text-align: right;\n    }\n</style>\n<table border=\"1\" class=\"dataframe\">\n  <thead>\n    <tr style=\"text-align: right;\">\n      <th></th>\n      <th>Cust_id</th>\n      <th>CAT I</th>\n      <th>CAT II</th>\n      <th>revenue ( $ Algérien)</th>\n      <th>city</th>\n      <th>gender</th>\n      <th>month_1</th>\n      <th>month_7</th>\n      <th>month_8</th>\n      <th>month_9</th>\n      <th>month_10</th>\n      <th>month_11</th>\n      <th>month_12</th>\n    </tr>\n  </thead>\n  <tbody>\n    <tr>\n      <th>0</th>\n      <td>153926</td>\n      <td>Accessoire femmes</td>\n      <td>Sacs</td>\n      <td>55251.0</td>\n      <td>A</td>\n      <td>male</td>\n      <td>0</td>\n      <td>1</td>\n      <td>0</td>\n      <td>0</td>\n      <td>0</td>\n      <td>0</td>\n      <td>0</td>\n    </tr>\n    <tr>\n      <th>1</th>\n      <td>153929</td>\n      <td>Accessoire femmes</td>\n      <td>Lunettes de soleil</td>\n      <td>444479.0</td>\n      <td>A</td>\n      <td>male</td>\n      <td>0</td>\n      <td>1</td>\n      <td>0</td>\n      <td>0</td>\n      <td>0</td>\n      <td>0</td>\n      <td>0</td>\n    </tr>\n    <tr>\n      <th>2</th>\n      <td>153935</td>\n      <td>Accessoire femmes</td>\n      <td>Lunettes de soleil</td>\n      <td>242911.0</td>\n      <td>A</td>\n      <td>female</td>\n      <td>0</td>\n      <td>1</td>\n      <td>0</td>\n      <td>0</td>\n      <td>0</td>\n      <td>0</td>\n      <td>0</td>\n    </tr>\n    <tr>\n      <th>3</th>\n      <td>153935</td>\n      <td>Accessoire femmes</td>\n      <td>Lunettes de soleil</td>\n      <td>267374.0</td>\n      <td>A</td>\n      <td>female</td>\n      <td>0</td>\n      <td>1</td>\n      <td>0</td>\n      <td>0</td>\n      <td>0</td>\n      <td>0</td>\n      <td>0</td>\n    </tr>\n    <tr>\n      <th>4</th>\n      <td>153950</td>\n      <td>Accessoire femmes</td>\n      <td>Sacs</td>\n      <td>102590.0</td>\n      <td>A</td>\n      <td>female</td>\n      <td>0</td>\n      <td>1</td>\n      <td>0</td>\n      <td>0</td>\n      <td>0</td>\n      <td>0</td>\n      <td>0</td>\n    </tr>\n  </tbody>\n</table>\n</div>"
          },
          "metadata": {}
        }
      ]
    },
    {
      "cell_type": "code",
      "source": [
        "test.head()"
      ],
      "metadata": {
        "execution": {
          "iopub.status.busy": "2023-02-25T07:29:55.542847Z",
          "iopub.execute_input": "2023-02-25T07:29:55.543253Z",
          "iopub.status.idle": "2023-02-25T07:29:55.559954Z",
          "shell.execute_reply.started": "2023-02-25T07:29:55.543218Z",
          "shell.execute_reply": "2023-02-25T07:29:55.558543Z"
        },
        "trusted": true,
        "id": "JhWF6Fan1Zsf",
        "outputId": "ea929abc-e546-4c01-9739-55b79152974a"
      },
      "execution_count": null,
      "outputs": [
        {
          "execution_count": 171,
          "output_type": "execute_result",
          "data": {
            "text/plain": "   Cust_id              CAT I              CAT II  revenue ( $ Algérien) city  \\\n0   153925  Accessoire femmes  Lunettes de soleil               181672.0    A   \n1   153925  Accessoire femmes  Lunettes de soleil               482394.0    A   \n2    15403  Accessoire femmes  Lunettes de soleil               116073.0    A   \n3    15403  Accessoire femmes  Lunettes de soleil               183709.0    A   \n4    15403  Accessoire femmes  Lunettes de soleil               273851.0    A   \n\n  gender  month_7  month_8  month_9  \n0   male        1        0        0  \n1   male        1        0        0  \n2   male        1        0        0  \n3   male        1        0        0  \n4   male        1        0        0  ",
            "text/html": "<div>\n<style scoped>\n    .dataframe tbody tr th:only-of-type {\n        vertical-align: middle;\n    }\n\n    .dataframe tbody tr th {\n        vertical-align: top;\n    }\n\n    .dataframe thead th {\n        text-align: right;\n    }\n</style>\n<table border=\"1\" class=\"dataframe\">\n  <thead>\n    <tr style=\"text-align: right;\">\n      <th></th>\n      <th>Cust_id</th>\n      <th>CAT I</th>\n      <th>CAT II</th>\n      <th>revenue ( $ Algérien)</th>\n      <th>city</th>\n      <th>gender</th>\n      <th>month_7</th>\n      <th>month_8</th>\n      <th>month_9</th>\n    </tr>\n  </thead>\n  <tbody>\n    <tr>\n      <th>0</th>\n      <td>153925</td>\n      <td>Accessoire femmes</td>\n      <td>Lunettes de soleil</td>\n      <td>181672.0</td>\n      <td>A</td>\n      <td>male</td>\n      <td>1</td>\n      <td>0</td>\n      <td>0</td>\n    </tr>\n    <tr>\n      <th>1</th>\n      <td>153925</td>\n      <td>Accessoire femmes</td>\n      <td>Lunettes de soleil</td>\n      <td>482394.0</td>\n      <td>A</td>\n      <td>male</td>\n      <td>1</td>\n      <td>0</td>\n      <td>0</td>\n    </tr>\n    <tr>\n      <th>2</th>\n      <td>15403</td>\n      <td>Accessoire femmes</td>\n      <td>Lunettes de soleil</td>\n      <td>116073.0</td>\n      <td>A</td>\n      <td>male</td>\n      <td>1</td>\n      <td>0</td>\n      <td>0</td>\n    </tr>\n    <tr>\n      <th>3</th>\n      <td>15403</td>\n      <td>Accessoire femmes</td>\n      <td>Lunettes de soleil</td>\n      <td>183709.0</td>\n      <td>A</td>\n      <td>male</td>\n      <td>1</td>\n      <td>0</td>\n      <td>0</td>\n    </tr>\n    <tr>\n      <th>4</th>\n      <td>15403</td>\n      <td>Accessoire femmes</td>\n      <td>Lunettes de soleil</td>\n      <td>273851.0</td>\n      <td>A</td>\n      <td>male</td>\n      <td>1</td>\n      <td>0</td>\n      <td>0</td>\n    </tr>\n  </tbody>\n</table>\n</div>"
          },
          "metadata": {}
        }
      ]
    },
    {
      "cell_type": "code",
      "source": [
        "features= ['Cust_id','CAT I','city','gender']"
      ],
      "metadata": {
        "execution": {
          "iopub.status.busy": "2023-02-25T07:29:55.730575Z",
          "iopub.execute_input": "2023-02-25T07:29:55.731371Z",
          "iopub.status.idle": "2023-02-25T07:29:55.736527Z",
          "shell.execute_reply.started": "2023-02-25T07:29:55.731326Z",
          "shell.execute_reply": "2023-02-25T07:29:55.735297Z"
        },
        "trusted": true,
        "id": "DOgbjfhh1Zsf"
      },
      "execution_count": null,
      "outputs": []
    },
    {
      "cell_type": "code",
      "source": [
        "grouped_df = df.groupby(['Cust_id','CAT II']).sum()"
      ],
      "metadata": {
        "execution": {
          "iopub.status.busy": "2023-02-25T07:29:55.864565Z",
          "iopub.execute_input": "2023-02-25T07:29:55.864995Z",
          "iopub.status.idle": "2023-02-25T07:29:55.890228Z",
          "shell.execute_reply.started": "2023-02-25T07:29:55.864958Z",
          "shell.execute_reply": "2023-02-25T07:29:55.888802Z"
        },
        "trusted": true,
        "id": "go9j-nit1Zsg"
      },
      "execution_count": null,
      "outputs": []
    },
    {
      "cell_type": "code",
      "source": [
        "ungrouped_df = grouped_df.reset_index()"
      ],
      "metadata": {
        "execution": {
          "iopub.status.busy": "2023-02-25T07:29:56.089610Z",
          "iopub.execute_input": "2023-02-25T07:29:56.090053Z",
          "iopub.status.idle": "2023-02-25T07:29:56.098668Z",
          "shell.execute_reply.started": "2023-02-25T07:29:56.090014Z",
          "shell.execute_reply": "2023-02-25T07:29:56.097490Z"
        },
        "trusted": true,
        "id": "lNHCKQYZ1Zsi"
      },
      "execution_count": null,
      "outputs": []
    },
    {
      "cell_type": "code",
      "source": [
        "result_df = pd.merge(df[features].drop_duplicates(), ungrouped_df, on='Cust_id')\n",
        "result_df.head()"
      ],
      "metadata": {
        "execution": {
          "iopub.status.busy": "2023-02-25T07:29:56.589219Z",
          "iopub.execute_input": "2023-02-25T07:29:56.589614Z",
          "iopub.status.idle": "2023-02-25T07:29:56.628192Z",
          "shell.execute_reply.started": "2023-02-25T07:29:56.589581Z",
          "shell.execute_reply": "2023-02-25T07:29:56.626762Z"
        },
        "trusted": true,
        "id": "4CUkyMhz1Zsj",
        "outputId": "2ec5a1e9-fcc7-4c0a-f8f3-9565e677ee94"
      },
      "execution_count": null,
      "outputs": [
        {
          "execution_count": 175,
          "output_type": "execute_result",
          "data": {
            "text/plain": "   Cust_id              CAT I city  gender              CAT II  \\\n0   153926  Accessoire femmes    A    male                Sacs   \n1   153929  Accessoire femmes    A    male  Lunettes de soleil   \n2   153935  Accessoire femmes    A  female  Lunettes de soleil   \n3   153950  Accessoire femmes    A  female                Sacs   \n4   153967  Accessoire femmes    A    male                Sacs   \n\n   revenue ( $ Algérien)  month_1  month_7  month_8  month_9  month_10  \\\n0                55251.0        0        1        0        0         0   \n1              2507330.0        0        4        0        1         0   \n2               510285.0        0        2        0        0         0   \n3               169893.0        0        2        0        0         0   \n4                 6203.0        0        1        0        0         0   \n\n   month_11  month_12  \n0         0         0  \n1         3         0  \n2         0         0  \n3         0         0  \n4         0         0  ",
            "text/html": "<div>\n<style scoped>\n    .dataframe tbody tr th:only-of-type {\n        vertical-align: middle;\n    }\n\n    .dataframe tbody tr th {\n        vertical-align: top;\n    }\n\n    .dataframe thead th {\n        text-align: right;\n    }\n</style>\n<table border=\"1\" class=\"dataframe\">\n  <thead>\n    <tr style=\"text-align: right;\">\n      <th></th>\n      <th>Cust_id</th>\n      <th>CAT I</th>\n      <th>city</th>\n      <th>gender</th>\n      <th>CAT II</th>\n      <th>revenue ( $ Algérien)</th>\n      <th>month_1</th>\n      <th>month_7</th>\n      <th>month_8</th>\n      <th>month_9</th>\n      <th>month_10</th>\n      <th>month_11</th>\n      <th>month_12</th>\n    </tr>\n  </thead>\n  <tbody>\n    <tr>\n      <th>0</th>\n      <td>153926</td>\n      <td>Accessoire femmes</td>\n      <td>A</td>\n      <td>male</td>\n      <td>Sacs</td>\n      <td>55251.0</td>\n      <td>0</td>\n      <td>1</td>\n      <td>0</td>\n      <td>0</td>\n      <td>0</td>\n      <td>0</td>\n      <td>0</td>\n    </tr>\n    <tr>\n      <th>1</th>\n      <td>153929</td>\n      <td>Accessoire femmes</td>\n      <td>A</td>\n      <td>male</td>\n      <td>Lunettes de soleil</td>\n      <td>2507330.0</td>\n      <td>0</td>\n      <td>4</td>\n      <td>0</td>\n      <td>1</td>\n      <td>0</td>\n      <td>3</td>\n      <td>0</td>\n    </tr>\n    <tr>\n      <th>2</th>\n      <td>153935</td>\n      <td>Accessoire femmes</td>\n      <td>A</td>\n      <td>female</td>\n      <td>Lunettes de soleil</td>\n      <td>510285.0</td>\n      <td>0</td>\n      <td>2</td>\n      <td>0</td>\n      <td>0</td>\n      <td>0</td>\n      <td>0</td>\n      <td>0</td>\n    </tr>\n    <tr>\n      <th>3</th>\n      <td>153950</td>\n      <td>Accessoire femmes</td>\n      <td>A</td>\n      <td>female</td>\n      <td>Sacs</td>\n      <td>169893.0</td>\n      <td>0</td>\n      <td>2</td>\n      <td>0</td>\n      <td>0</td>\n      <td>0</td>\n      <td>0</td>\n      <td>0</td>\n    </tr>\n    <tr>\n      <th>4</th>\n      <td>153967</td>\n      <td>Accessoire femmes</td>\n      <td>A</td>\n      <td>male</td>\n      <td>Sacs</td>\n      <td>6203.0</td>\n      <td>0</td>\n      <td>1</td>\n      <td>0</td>\n      <td>0</td>\n      <td>0</td>\n      <td>0</td>\n      <td>0</td>\n    </tr>\n  </tbody>\n</table>\n</div>"
          },
          "metadata": {}
        }
      ]
    },
    {
      "cell_type": "code",
      "source": [
        "# Create the binary label\n",
        "result_df['label'] = (result_df['month_10']+result_df['month_11']+result_df['month_12']+result_df['month_1'])\n",
        "result_df.head()\n"
      ],
      "metadata": {
        "execution": {
          "iopub.status.busy": "2023-02-25T07:29:56.942811Z",
          "iopub.execute_input": "2023-02-25T07:29:56.943237Z",
          "iopub.status.idle": "2023-02-25T07:29:56.964589Z",
          "shell.execute_reply.started": "2023-02-25T07:29:56.943199Z",
          "shell.execute_reply": "2023-02-25T07:29:56.963110Z"
        },
        "trusted": true,
        "id": "kgA9B_x01Zsj",
        "outputId": "957fe159-fc9d-4ab7-92f2-316a8f002019"
      },
      "execution_count": null,
      "outputs": [
        {
          "execution_count": 176,
          "output_type": "execute_result",
          "data": {
            "text/plain": "   Cust_id              CAT I city  gender              CAT II  \\\n0   153926  Accessoire femmes    A    male                Sacs   \n1   153929  Accessoire femmes    A    male  Lunettes de soleil   \n2   153935  Accessoire femmes    A  female  Lunettes de soleil   \n3   153950  Accessoire femmes    A  female                Sacs   \n4   153967  Accessoire femmes    A    male                Sacs   \n\n   revenue ( $ Algérien)  month_1  month_7  month_8  month_9  month_10  \\\n0                55251.0        0        1        0        0         0   \n1              2507330.0        0        4        0        1         0   \n2               510285.0        0        2        0        0         0   \n3               169893.0        0        2        0        0         0   \n4                 6203.0        0        1        0        0         0   \n\n   month_11  month_12  label  \n0         0         0      0  \n1         3         0      3  \n2         0         0      0  \n3         0         0      0  \n4         0         0      0  ",
            "text/html": "<div>\n<style scoped>\n    .dataframe tbody tr th:only-of-type {\n        vertical-align: middle;\n    }\n\n    .dataframe tbody tr th {\n        vertical-align: top;\n    }\n\n    .dataframe thead th {\n        text-align: right;\n    }\n</style>\n<table border=\"1\" class=\"dataframe\">\n  <thead>\n    <tr style=\"text-align: right;\">\n      <th></th>\n      <th>Cust_id</th>\n      <th>CAT I</th>\n      <th>city</th>\n      <th>gender</th>\n      <th>CAT II</th>\n      <th>revenue ( $ Algérien)</th>\n      <th>month_1</th>\n      <th>month_7</th>\n      <th>month_8</th>\n      <th>month_9</th>\n      <th>month_10</th>\n      <th>month_11</th>\n      <th>month_12</th>\n      <th>label</th>\n    </tr>\n  </thead>\n  <tbody>\n    <tr>\n      <th>0</th>\n      <td>153926</td>\n      <td>Accessoire femmes</td>\n      <td>A</td>\n      <td>male</td>\n      <td>Sacs</td>\n      <td>55251.0</td>\n      <td>0</td>\n      <td>1</td>\n      <td>0</td>\n      <td>0</td>\n      <td>0</td>\n      <td>0</td>\n      <td>0</td>\n      <td>0</td>\n    </tr>\n    <tr>\n      <th>1</th>\n      <td>153929</td>\n      <td>Accessoire femmes</td>\n      <td>A</td>\n      <td>male</td>\n      <td>Lunettes de soleil</td>\n      <td>2507330.0</td>\n      <td>0</td>\n      <td>4</td>\n      <td>0</td>\n      <td>1</td>\n      <td>0</td>\n      <td>3</td>\n      <td>0</td>\n      <td>3</td>\n    </tr>\n    <tr>\n      <th>2</th>\n      <td>153935</td>\n      <td>Accessoire femmes</td>\n      <td>A</td>\n      <td>female</td>\n      <td>Lunettes de soleil</td>\n      <td>510285.0</td>\n      <td>0</td>\n      <td>2</td>\n      <td>0</td>\n      <td>0</td>\n      <td>0</td>\n      <td>0</td>\n      <td>0</td>\n      <td>0</td>\n    </tr>\n    <tr>\n      <th>3</th>\n      <td>153950</td>\n      <td>Accessoire femmes</td>\n      <td>A</td>\n      <td>female</td>\n      <td>Sacs</td>\n      <td>169893.0</td>\n      <td>0</td>\n      <td>2</td>\n      <td>0</td>\n      <td>0</td>\n      <td>0</td>\n      <td>0</td>\n      <td>0</td>\n      <td>0</td>\n    </tr>\n    <tr>\n      <th>4</th>\n      <td>153967</td>\n      <td>Accessoire femmes</td>\n      <td>A</td>\n      <td>male</td>\n      <td>Sacs</td>\n      <td>6203.0</td>\n      <td>0</td>\n      <td>1</td>\n      <td>0</td>\n      <td>0</td>\n      <td>0</td>\n      <td>0</td>\n      <td>0</td>\n      <td>0</td>\n    </tr>\n  </tbody>\n</table>\n</div>"
          },
          "metadata": {}
        }
      ]
    },
    {
      "cell_type": "code",
      "source": [
        "result_df = result_df.drop('month_1',axis=1)\n",
        "result_df = result_df.drop('month_10',axis=1)\n",
        "result_df = result_df.drop('month_11',axis=1)\n",
        "result_df = result_df.drop('month_12',axis=1)"
      ],
      "metadata": {
        "execution": {
          "iopub.status.busy": "2023-02-25T07:29:57.030784Z",
          "iopub.execute_input": "2023-02-25T07:29:57.031229Z",
          "iopub.status.idle": "2023-02-25T07:29:57.046796Z",
          "shell.execute_reply.started": "2023-02-25T07:29:57.031189Z",
          "shell.execute_reply": "2023-02-25T07:29:57.045405Z"
        },
        "trusted": true,
        "id": "IW4nJOnJ1Zsk"
      },
      "execution_count": null,
      "outputs": []
    },
    {
      "cell_type": "code",
      "source": [
        "result_df.head()"
      ],
      "metadata": {
        "execution": {
          "iopub.status.busy": "2023-02-25T07:29:57.360108Z",
          "iopub.execute_input": "2023-02-25T07:29:57.360562Z",
          "iopub.status.idle": "2023-02-25T07:29:57.377346Z",
          "shell.execute_reply.started": "2023-02-25T07:29:57.360519Z",
          "shell.execute_reply": "2023-02-25T07:29:57.376040Z"
        },
        "trusted": true,
        "id": "pQfFLrle1Zsk",
        "outputId": "b13b2efa-03bf-4ce2-e24d-46e03e08e780"
      },
      "execution_count": null,
      "outputs": [
        {
          "execution_count": 178,
          "output_type": "execute_result",
          "data": {
            "text/plain": "   Cust_id              CAT I city  gender              CAT II  \\\n0   153926  Accessoire femmes    A    male                Sacs   \n1   153929  Accessoire femmes    A    male  Lunettes de soleil   \n2   153935  Accessoire femmes    A  female  Lunettes de soleil   \n3   153950  Accessoire femmes    A  female                Sacs   \n4   153967  Accessoire femmes    A    male                Sacs   \n\n   revenue ( $ Algérien)  month_7  month_8  month_9  label  \n0                55251.0        1        0        0      0  \n1              2507330.0        4        0        1      3  \n2               510285.0        2        0        0      0  \n3               169893.0        2        0        0      0  \n4                 6203.0        1        0        0      0  ",
            "text/html": "<div>\n<style scoped>\n    .dataframe tbody tr th:only-of-type {\n        vertical-align: middle;\n    }\n\n    .dataframe tbody tr th {\n        vertical-align: top;\n    }\n\n    .dataframe thead th {\n        text-align: right;\n    }\n</style>\n<table border=\"1\" class=\"dataframe\">\n  <thead>\n    <tr style=\"text-align: right;\">\n      <th></th>\n      <th>Cust_id</th>\n      <th>CAT I</th>\n      <th>city</th>\n      <th>gender</th>\n      <th>CAT II</th>\n      <th>revenue ( $ Algérien)</th>\n      <th>month_7</th>\n      <th>month_8</th>\n      <th>month_9</th>\n      <th>label</th>\n    </tr>\n  </thead>\n  <tbody>\n    <tr>\n      <th>0</th>\n      <td>153926</td>\n      <td>Accessoire femmes</td>\n      <td>A</td>\n      <td>male</td>\n      <td>Sacs</td>\n      <td>55251.0</td>\n      <td>1</td>\n      <td>0</td>\n      <td>0</td>\n      <td>0</td>\n    </tr>\n    <tr>\n      <th>1</th>\n      <td>153929</td>\n      <td>Accessoire femmes</td>\n      <td>A</td>\n      <td>male</td>\n      <td>Lunettes de soleil</td>\n      <td>2507330.0</td>\n      <td>4</td>\n      <td>0</td>\n      <td>1</td>\n      <td>3</td>\n    </tr>\n    <tr>\n      <th>2</th>\n      <td>153935</td>\n      <td>Accessoire femmes</td>\n      <td>A</td>\n      <td>female</td>\n      <td>Lunettes de soleil</td>\n      <td>510285.0</td>\n      <td>2</td>\n      <td>0</td>\n      <td>0</td>\n      <td>0</td>\n    </tr>\n    <tr>\n      <th>3</th>\n      <td>153950</td>\n      <td>Accessoire femmes</td>\n      <td>A</td>\n      <td>female</td>\n      <td>Sacs</td>\n      <td>169893.0</td>\n      <td>2</td>\n      <td>0</td>\n      <td>0</td>\n      <td>0</td>\n    </tr>\n    <tr>\n      <th>4</th>\n      <td>153967</td>\n      <td>Accessoire femmes</td>\n      <td>A</td>\n      <td>male</td>\n      <td>Sacs</td>\n      <td>6203.0</td>\n      <td>1</td>\n      <td>0</td>\n      <td>0</td>\n      <td>0</td>\n    </tr>\n  </tbody>\n</table>\n</div>"
          },
          "metadata": {}
        }
      ]
    },
    {
      "cell_type": "code",
      "source": [
        "Cust_id = test['Cust_id']\n",
        "Cat2 = test['CAT II']\n",
        "test = test.drop('Cust_id',axis=1)\n",
        "test.head()"
      ],
      "metadata": {
        "execution": {
          "iopub.status.busy": "2023-02-25T07:29:57.459396Z",
          "iopub.execute_input": "2023-02-25T07:29:57.459823Z",
          "iopub.status.idle": "2023-02-25T07:29:57.478195Z",
          "shell.execute_reply.started": "2023-02-25T07:29:57.459788Z",
          "shell.execute_reply": "2023-02-25T07:29:57.476765Z"
        },
        "trusted": true,
        "id": "6HoNxgsK1Zsl",
        "outputId": "1a505316-e761-4afa-b0fb-1e03183cc1b7"
      },
      "execution_count": null,
      "outputs": [
        {
          "execution_count": 179,
          "output_type": "execute_result",
          "data": {
            "text/plain": "               CAT I              CAT II  revenue ( $ Algérien) city gender  \\\n0  Accessoire femmes  Lunettes de soleil               181672.0    A   male   \n1  Accessoire femmes  Lunettes de soleil               482394.0    A   male   \n2  Accessoire femmes  Lunettes de soleil               116073.0    A   male   \n3  Accessoire femmes  Lunettes de soleil               183709.0    A   male   \n4  Accessoire femmes  Lunettes de soleil               273851.0    A   male   \n\n   month_7  month_8  month_9  \n0        1        0        0  \n1        1        0        0  \n2        1        0        0  \n3        1        0        0  \n4        1        0        0  ",
            "text/html": "<div>\n<style scoped>\n    .dataframe tbody tr th:only-of-type {\n        vertical-align: middle;\n    }\n\n    .dataframe tbody tr th {\n        vertical-align: top;\n    }\n\n    .dataframe thead th {\n        text-align: right;\n    }\n</style>\n<table border=\"1\" class=\"dataframe\">\n  <thead>\n    <tr style=\"text-align: right;\">\n      <th></th>\n      <th>CAT I</th>\n      <th>CAT II</th>\n      <th>revenue ( $ Algérien)</th>\n      <th>city</th>\n      <th>gender</th>\n      <th>month_7</th>\n      <th>month_8</th>\n      <th>month_9</th>\n    </tr>\n  </thead>\n  <tbody>\n    <tr>\n      <th>0</th>\n      <td>Accessoire femmes</td>\n      <td>Lunettes de soleil</td>\n      <td>181672.0</td>\n      <td>A</td>\n      <td>male</td>\n      <td>1</td>\n      <td>0</td>\n      <td>0</td>\n    </tr>\n    <tr>\n      <th>1</th>\n      <td>Accessoire femmes</td>\n      <td>Lunettes de soleil</td>\n      <td>482394.0</td>\n      <td>A</td>\n      <td>male</td>\n      <td>1</td>\n      <td>0</td>\n      <td>0</td>\n    </tr>\n    <tr>\n      <th>2</th>\n      <td>Accessoire femmes</td>\n      <td>Lunettes de soleil</td>\n      <td>116073.0</td>\n      <td>A</td>\n      <td>male</td>\n      <td>1</td>\n      <td>0</td>\n      <td>0</td>\n    </tr>\n    <tr>\n      <th>3</th>\n      <td>Accessoire femmes</td>\n      <td>Lunettes de soleil</td>\n      <td>183709.0</td>\n      <td>A</td>\n      <td>male</td>\n      <td>1</td>\n      <td>0</td>\n      <td>0</td>\n    </tr>\n    <tr>\n      <th>4</th>\n      <td>Accessoire femmes</td>\n      <td>Lunettes de soleil</td>\n      <td>273851.0</td>\n      <td>A</td>\n      <td>male</td>\n      <td>1</td>\n      <td>0</td>\n      <td>0</td>\n    </tr>\n  </tbody>\n</table>\n</div>"
          },
          "metadata": {}
        }
      ]
    },
    {
      "cell_type": "code",
      "source": [
        "test = pd.DataFrame({'CAT I':test['CAT I'].values,'city':test['city'].values,'gender':test['gender'].values,\n",
        "                   'CAT II':test['CAT II'].values , 'revenue ( $ Algérien)':test['revenue ( $ Algérien)'].values,\n",
        "                    'month_7':test['month_7'].values,'month_8':test['month_8'].values,'month_9':test['month_9'].values})\n",
        "test.head()"
      ],
      "metadata": {
        "execution": {
          "iopub.status.busy": "2023-02-25T07:29:57.772520Z",
          "iopub.execute_input": "2023-02-25T07:29:57.772955Z",
          "iopub.status.idle": "2023-02-25T07:29:57.791833Z",
          "shell.execute_reply.started": "2023-02-25T07:29:57.772911Z",
          "shell.execute_reply": "2023-02-25T07:29:57.790591Z"
        },
        "trusted": true,
        "id": "JJGZgmOA1Zsl",
        "outputId": "c9ac8245-14de-4fe4-80f4-ba887d333cdf"
      },
      "execution_count": null,
      "outputs": [
        {
          "execution_count": 180,
          "output_type": "execute_result",
          "data": {
            "text/plain": "               CAT I city gender              CAT II  revenue ( $ Algérien)  \\\n0  Accessoire femmes    A   male  Lunettes de soleil               181672.0   \n1  Accessoire femmes    A   male  Lunettes de soleil               482394.0   \n2  Accessoire femmes    A   male  Lunettes de soleil               116073.0   \n3  Accessoire femmes    A   male  Lunettes de soleil               183709.0   \n4  Accessoire femmes    A   male  Lunettes de soleil               273851.0   \n\n   month_7  month_8  month_9  \n0        1        0        0  \n1        1        0        0  \n2        1        0        0  \n3        1        0        0  \n4        1        0        0  ",
            "text/html": "<div>\n<style scoped>\n    .dataframe tbody tr th:only-of-type {\n        vertical-align: middle;\n    }\n\n    .dataframe tbody tr th {\n        vertical-align: top;\n    }\n\n    .dataframe thead th {\n        text-align: right;\n    }\n</style>\n<table border=\"1\" class=\"dataframe\">\n  <thead>\n    <tr style=\"text-align: right;\">\n      <th></th>\n      <th>CAT I</th>\n      <th>city</th>\n      <th>gender</th>\n      <th>CAT II</th>\n      <th>revenue ( $ Algérien)</th>\n      <th>month_7</th>\n      <th>month_8</th>\n      <th>month_9</th>\n    </tr>\n  </thead>\n  <tbody>\n    <tr>\n      <th>0</th>\n      <td>Accessoire femmes</td>\n      <td>A</td>\n      <td>male</td>\n      <td>Lunettes de soleil</td>\n      <td>181672.0</td>\n      <td>1</td>\n      <td>0</td>\n      <td>0</td>\n    </tr>\n    <tr>\n      <th>1</th>\n      <td>Accessoire femmes</td>\n      <td>A</td>\n      <td>male</td>\n      <td>Lunettes de soleil</td>\n      <td>482394.0</td>\n      <td>1</td>\n      <td>0</td>\n      <td>0</td>\n    </tr>\n    <tr>\n      <th>2</th>\n      <td>Accessoire femmes</td>\n      <td>A</td>\n      <td>male</td>\n      <td>Lunettes de soleil</td>\n      <td>116073.0</td>\n      <td>1</td>\n      <td>0</td>\n      <td>0</td>\n    </tr>\n    <tr>\n      <th>3</th>\n      <td>Accessoire femmes</td>\n      <td>A</td>\n      <td>male</td>\n      <td>Lunettes de soleil</td>\n      <td>183709.0</td>\n      <td>1</td>\n      <td>0</td>\n      <td>0</td>\n    </tr>\n    <tr>\n      <th>4</th>\n      <td>Accessoire femmes</td>\n      <td>A</td>\n      <td>male</td>\n      <td>Lunettes de soleil</td>\n      <td>273851.0</td>\n      <td>1</td>\n      <td>0</td>\n      <td>0</td>\n    </tr>\n  </tbody>\n</table>\n</div>"
          },
          "metadata": {}
        }
      ]
    },
    {
      "cell_type": "code",
      "source": [
        "y = result_df['label']\n",
        "train_data = result_df.drop('label',axis=1)\n",
        "test_data=test"
      ],
      "metadata": {
        "execution": {
          "iopub.status.busy": "2023-02-25T07:29:58.124662Z",
          "iopub.execute_input": "2023-02-25T07:29:58.125993Z",
          "iopub.status.idle": "2023-02-25T07:29:58.134867Z",
          "shell.execute_reply.started": "2023-02-25T07:29:58.125934Z",
          "shell.execute_reply": "2023-02-25T07:29:58.133377Z"
        },
        "trusted": true,
        "id": "e2nQP3z_1Zsn"
      },
      "execution_count": null,
      "outputs": []
    },
    {
      "cell_type": "code",
      "source": [
        "train_data.head()"
      ],
      "metadata": {
        "execution": {
          "iopub.status.busy": "2023-02-25T07:29:58.414298Z",
          "iopub.execute_input": "2023-02-25T07:29:58.414739Z",
          "iopub.status.idle": "2023-02-25T07:29:58.432237Z",
          "shell.execute_reply.started": "2023-02-25T07:29:58.414688Z",
          "shell.execute_reply": "2023-02-25T07:29:58.430790Z"
        },
        "trusted": true,
        "id": "ql9iYbvq1Zsn",
        "outputId": "c9c7e36b-7c40-42d3-c58c-adea3672dbd2"
      },
      "execution_count": null,
      "outputs": [
        {
          "execution_count": 182,
          "output_type": "execute_result",
          "data": {
            "text/plain": "   Cust_id              CAT I city  gender              CAT II  \\\n0   153926  Accessoire femmes    A    male                Sacs   \n1   153929  Accessoire femmes    A    male  Lunettes de soleil   \n2   153935  Accessoire femmes    A  female  Lunettes de soleil   \n3   153950  Accessoire femmes    A  female                Sacs   \n4   153967  Accessoire femmes    A    male                Sacs   \n\n   revenue ( $ Algérien)  month_7  month_8  month_9  \n0                55251.0        1        0        0  \n1              2507330.0        4        0        1  \n2               510285.0        2        0        0  \n3               169893.0        2        0        0  \n4                 6203.0        1        0        0  ",
            "text/html": "<div>\n<style scoped>\n    .dataframe tbody tr th:only-of-type {\n        vertical-align: middle;\n    }\n\n    .dataframe tbody tr th {\n        vertical-align: top;\n    }\n\n    .dataframe thead th {\n        text-align: right;\n    }\n</style>\n<table border=\"1\" class=\"dataframe\">\n  <thead>\n    <tr style=\"text-align: right;\">\n      <th></th>\n      <th>Cust_id</th>\n      <th>CAT I</th>\n      <th>city</th>\n      <th>gender</th>\n      <th>CAT II</th>\n      <th>revenue ( $ Algérien)</th>\n      <th>month_7</th>\n      <th>month_8</th>\n      <th>month_9</th>\n    </tr>\n  </thead>\n  <tbody>\n    <tr>\n      <th>0</th>\n      <td>153926</td>\n      <td>Accessoire femmes</td>\n      <td>A</td>\n      <td>male</td>\n      <td>Sacs</td>\n      <td>55251.0</td>\n      <td>1</td>\n      <td>0</td>\n      <td>0</td>\n    </tr>\n    <tr>\n      <th>1</th>\n      <td>153929</td>\n      <td>Accessoire femmes</td>\n      <td>A</td>\n      <td>male</td>\n      <td>Lunettes de soleil</td>\n      <td>2507330.0</td>\n      <td>4</td>\n      <td>0</td>\n      <td>1</td>\n    </tr>\n    <tr>\n      <th>2</th>\n      <td>153935</td>\n      <td>Accessoire femmes</td>\n      <td>A</td>\n      <td>female</td>\n      <td>Lunettes de soleil</td>\n      <td>510285.0</td>\n      <td>2</td>\n      <td>0</td>\n      <td>0</td>\n    </tr>\n    <tr>\n      <th>3</th>\n      <td>153950</td>\n      <td>Accessoire femmes</td>\n      <td>A</td>\n      <td>female</td>\n      <td>Sacs</td>\n      <td>169893.0</td>\n      <td>2</td>\n      <td>0</td>\n      <td>0</td>\n    </tr>\n    <tr>\n      <th>4</th>\n      <td>153967</td>\n      <td>Accessoire femmes</td>\n      <td>A</td>\n      <td>male</td>\n      <td>Sacs</td>\n      <td>6203.0</td>\n      <td>1</td>\n      <td>0</td>\n      <td>0</td>\n    </tr>\n  </tbody>\n</table>\n</div>"
          },
          "metadata": {}
        }
      ]
    },
    {
      "cell_type": "code",
      "source": [
        "test_data.head()"
      ],
      "metadata": {
        "execution": {
          "iopub.status.busy": "2023-02-25T07:29:58.443977Z",
          "iopub.execute_input": "2023-02-25T07:29:58.444937Z",
          "iopub.status.idle": "2023-02-25T07:29:58.461455Z",
          "shell.execute_reply.started": "2023-02-25T07:29:58.444888Z",
          "shell.execute_reply": "2023-02-25T07:29:58.459760Z"
        },
        "trusted": true,
        "id": "0nACtbip1Zsn",
        "outputId": "08add769-700c-4b71-f9bd-8cb98c9ccf83"
      },
      "execution_count": null,
      "outputs": [
        {
          "execution_count": 183,
          "output_type": "execute_result",
          "data": {
            "text/plain": "               CAT I city gender              CAT II  revenue ( $ Algérien)  \\\n0  Accessoire femmes    A   male  Lunettes de soleil               181672.0   \n1  Accessoire femmes    A   male  Lunettes de soleil               482394.0   \n2  Accessoire femmes    A   male  Lunettes de soleil               116073.0   \n3  Accessoire femmes    A   male  Lunettes de soleil               183709.0   \n4  Accessoire femmes    A   male  Lunettes de soleil               273851.0   \n\n   month_7  month_8  month_9  \n0        1        0        0  \n1        1        0        0  \n2        1        0        0  \n3        1        0        0  \n4        1        0        0  ",
            "text/html": "<div>\n<style scoped>\n    .dataframe tbody tr th:only-of-type {\n        vertical-align: middle;\n    }\n\n    .dataframe tbody tr th {\n        vertical-align: top;\n    }\n\n    .dataframe thead th {\n        text-align: right;\n    }\n</style>\n<table border=\"1\" class=\"dataframe\">\n  <thead>\n    <tr style=\"text-align: right;\">\n      <th></th>\n      <th>CAT I</th>\n      <th>city</th>\n      <th>gender</th>\n      <th>CAT II</th>\n      <th>revenue ( $ Algérien)</th>\n      <th>month_7</th>\n      <th>month_8</th>\n      <th>month_9</th>\n    </tr>\n  </thead>\n  <tbody>\n    <tr>\n      <th>0</th>\n      <td>Accessoire femmes</td>\n      <td>A</td>\n      <td>male</td>\n      <td>Lunettes de soleil</td>\n      <td>181672.0</td>\n      <td>1</td>\n      <td>0</td>\n      <td>0</td>\n    </tr>\n    <tr>\n      <th>1</th>\n      <td>Accessoire femmes</td>\n      <td>A</td>\n      <td>male</td>\n      <td>Lunettes de soleil</td>\n      <td>482394.0</td>\n      <td>1</td>\n      <td>0</td>\n      <td>0</td>\n    </tr>\n    <tr>\n      <th>2</th>\n      <td>Accessoire femmes</td>\n      <td>A</td>\n      <td>male</td>\n      <td>Lunettes de soleil</td>\n      <td>116073.0</td>\n      <td>1</td>\n      <td>0</td>\n      <td>0</td>\n    </tr>\n    <tr>\n      <th>3</th>\n      <td>Accessoire femmes</td>\n      <td>A</td>\n      <td>male</td>\n      <td>Lunettes de soleil</td>\n      <td>183709.0</td>\n      <td>1</td>\n      <td>0</td>\n      <td>0</td>\n    </tr>\n    <tr>\n      <th>4</th>\n      <td>Accessoire femmes</td>\n      <td>A</td>\n      <td>male</td>\n      <td>Lunettes de soleil</td>\n      <td>273851.0</td>\n      <td>1</td>\n      <td>0</td>\n      <td>0</td>\n    </tr>\n  </tbody>\n</table>\n</div>"
          },
          "metadata": {}
        }
      ]
    },
    {
      "cell_type": "code",
      "source": [
        "for i in range(len(y)):\n",
        "    if y[i] != 0 :\n",
        "        y[i] = 1 \n"
      ],
      "metadata": {
        "execution": {
          "iopub.status.busy": "2023-02-25T07:29:58.611852Z",
          "iopub.execute_input": "2023-02-25T07:29:58.612267Z",
          "iopub.status.idle": "2023-02-25T07:30:00.202419Z",
          "shell.execute_reply.started": "2023-02-25T07:29:58.612233Z",
          "shell.execute_reply": "2023-02-25T07:30:00.200756Z"
        },
        "trusted": true,
        "id": "9nN9C13W1Zso",
        "outputId": "8b18a449-c2ec-46fd-f6af-68dad4183378"
      },
      "execution_count": null,
      "outputs": [
        {
          "name": "stderr",
          "text": "/opt/conda/lib/python3.7/site-packages/ipykernel_launcher.py:3: SettingWithCopyWarning: \nA value is trying to be set on a copy of a slice from a DataFrame\n\nSee the caveats in the documentation: https://pandas.pydata.org/pandas-docs/stable/user_guide/indexing.html#returning-a-view-versus-a-copy\n  This is separate from the ipykernel package so we can avoid doing imports until\n",
          "output_type": "stream"
        }
      ]
    },
    {
      "cell_type": "code",
      "source": [
        "y.unique()"
      ],
      "metadata": {
        "execution": {
          "iopub.status.busy": "2023-02-25T07:30:00.205097Z",
          "iopub.execute_input": "2023-02-25T07:30:00.205518Z",
          "iopub.status.idle": "2023-02-25T07:30:00.214356Z",
          "shell.execute_reply.started": "2023-02-25T07:30:00.205483Z",
          "shell.execute_reply": "2023-02-25T07:30:00.212823Z"
        },
        "trusted": true,
        "id": "KprCdPGF1Zso",
        "outputId": "2c024ba3-a209-4758-ebfd-0cc0d4597471"
      },
      "execution_count": null,
      "outputs": [
        {
          "execution_count": 185,
          "output_type": "execute_result",
          "data": {
            "text/plain": "array([0, 1], dtype=uint8)"
          },
          "metadata": {}
        }
      ]
    },
    {
      "cell_type": "code",
      "source": [
        "\"\"\"from sklearn.preprocessing import LabelEncoder\n",
        "train_data = train_data.drop('Cust_id',axis=1)\n",
        "label_encoder=LabelEncoder()\n",
        "train_data['CAT I']=label_encoder.fit_transform(train_data['CAT I'])\n",
        "train_data['CAT II']=label_encoder.fit_transform(train_data['CAT II'])\n",
        "train_data['city']=label_encoder.fit_transform(train_data['city'])\n",
        "train_data['gender']=label_encoder.fit_transform(train_data['gender'])\n",
        "\n",
        "\n",
        "test_data['CAT I']=label_encoder.fit_transform(test_data['CAT I'])\n",
        "test_data['CAT II']=label_encoder.fit_transform(test_data['CAT II'])\n",
        "test_data['city']=label_encoder.fit_transform(test_data['city'])\n",
        "test_data['gender']=label_encoder.fit_transform(test_data['gender'])\n",
        "\"\"\"\n"
      ],
      "metadata": {
        "execution": {
          "iopub.status.busy": "2023-02-25T07:30:00.216164Z",
          "iopub.execute_input": "2023-02-25T07:30:00.216680Z",
          "iopub.status.idle": "2023-02-25T07:30:00.230457Z",
          "shell.execute_reply.started": "2023-02-25T07:30:00.216623Z",
          "shell.execute_reply": "2023-02-25T07:30:00.229190Z"
        },
        "trusted": true,
        "id": "3ozQDTZv1Zsp",
        "outputId": "a0dd1057-a630-4694-c496-fd4397f6ccb7"
      },
      "execution_count": null,
      "outputs": [
        {
          "execution_count": 186,
          "output_type": "execute_result",
          "data": {
            "text/plain": "\"from sklearn.preprocessing import LabelEncoder\\ntrain_data = train_data.drop('Cust_id',axis=1)\\nlabel_encoder=LabelEncoder()\\ntrain_data['CAT I']=label_encoder.fit_transform(train_data['CAT I'])\\ntrain_data['CAT II']=label_encoder.fit_transform(train_data['CAT II'])\\ntrain_data['city']=label_encoder.fit_transform(train_data['city'])\\ntrain_data['gender']=label_encoder.fit_transform(train_data['gender'])\\n\\n\\ntest_data['CAT I']=label_encoder.fit_transform(test_data['CAT I'])\\ntest_data['CAT II']=label_encoder.fit_transform(test_data['CAT II'])\\ntest_data['city']=label_encoder.fit_transform(test_data['city'])\\ntest_data['gender']=label_encoder.fit_transform(test_data['gender'])\\n\""
          },
          "metadata": {}
        }
      ]
    },
    {
      "cell_type": "code",
      "source": [
        "train_data = train_data.drop('Cust_id',axis=1)"
      ],
      "metadata": {
        "execution": {
          "iopub.status.busy": "2023-02-25T07:30:00.233523Z",
          "iopub.execute_input": "2023-02-25T07:30:00.234110Z",
          "iopub.status.idle": "2023-02-25T07:30:00.248790Z",
          "shell.execute_reply.started": "2023-02-25T07:30:00.234061Z",
          "shell.execute_reply": "2023-02-25T07:30:00.247126Z"
        },
        "trusted": true,
        "id": "eNsGD0-m1Zsq"
      },
      "execution_count": null,
      "outputs": []
    },
    {
      "cell_type": "code",
      "source": [
        "import pandas as pd\n",
        "from sklearn.preprocessing import OneHotEncoder\n",
        "\n",
        "# Select the categorical columns that you want to encode\n",
        "cat_cols = ['CAT I', 'CAT II', 'city','gender']\n",
        "\n",
        "# Use the OneHotEncoder from scikit-learn to encode the categorical columns\n",
        "encoder = OneHotEncoder(sparse=False)\n",
        "\n",
        "encoded_train = encoder.fit_transform(train_data[cat_cols])\n",
        "encoded_test = encoder.transform(test_data[cat_cols])\n",
        "\n",
        "# Convert the encoded data into a DataFrame with column names\n",
        "encoded_df_train = pd.DataFrame(encoded_train, columns=encoder.get_feature_names(cat_cols))\n",
        "encoded_df_test = pd.DataFrame(encoded_test, columns=encoder.get_feature_names(cat_cols))\n",
        "\n",
        "# Concatenate the encoded DataFrame with the original DataFrame\n",
        "train_data = pd.concat([train_data.drop(cat_cols, axis=1), encoded_df_train], axis=1)\n",
        "test_data = pd.concat([test_data.drop(cat_cols, axis=1), encoded_df_test], axis=1)\n"
      ],
      "metadata": {
        "execution": {
          "iopub.status.busy": "2023-02-25T07:31:10.968332Z",
          "iopub.execute_input": "2023-02-25T07:31:10.969162Z",
          "iopub.status.idle": "2023-02-25T07:31:11.019904Z",
          "shell.execute_reply.started": "2023-02-25T07:31:10.969106Z",
          "shell.execute_reply": "2023-02-25T07:31:11.018545Z"
        },
        "trusted": true,
        "id": "2FyWBvmc1Zsq",
        "outputId": "22c734a4-6b9a-48fa-aece-4b9277cbc0ed"
      },
      "execution_count": null,
      "outputs": [
        {
          "name": "stderr",
          "text": "/opt/conda/lib/python3.7/site-packages/sklearn/utils/deprecation.py:87: FutureWarning: Function get_feature_names is deprecated; get_feature_names is deprecated in 1.0 and will be removed in 1.2. Please use get_feature_names_out instead.\n  warnings.warn(msg, category=FutureWarning)\n",
          "output_type": "stream"
        }
      ]
    },
    {
      "cell_type": "code",
      "source": [
        "train_data.head()"
      ],
      "metadata": {
        "execution": {
          "iopub.status.busy": "2023-02-25T07:31:18.353470Z",
          "iopub.execute_input": "2023-02-25T07:31:18.354211Z",
          "iopub.status.idle": "2023-02-25T07:31:18.388534Z",
          "shell.execute_reply.started": "2023-02-25T07:31:18.354169Z",
          "shell.execute_reply": "2023-02-25T07:31:18.387129Z"
        },
        "trusted": true,
        "id": "DPtD9LpB1Zsr",
        "outputId": "8aec868f-90c8-42e1-a5f9-f252f106b412"
      },
      "execution_count": null,
      "outputs": [
        {
          "execution_count": 193,
          "output_type": "execute_result",
          "data": {
            "text/plain": "   revenue ( $ Algérien)  month_7  month_8  month_9  CAT I_Accessoire femmes  \\\n0                55251.0        1        0        0                      1.0   \n1              2507330.0        4        0        1                      1.0   \n2               510285.0        2        0        0                      1.0   \n3               169893.0        2        0        0                      1.0   \n4                 6203.0        1        0        0                      1.0   \n\n   CAT I_Accessoires hommes  CAT I_Accessoires pour femmes  \\\n0                       0.0                            0.0   \n1                       0.0                            0.0   \n2                       0.0                            0.0   \n3                       0.0                            0.0   \n4                       0.0                            0.0   \n\n   CAT I_Accessoires unisexes  CAT I_Appareils ménagers  \\\n0                         0.0                       0.0   \n1                         0.0                       0.0   \n2                         0.0                       0.0   \n3                         0.0                       0.0   \n4                         0.0                       0.0   \n\n   CAT I_Appareils photo et accessoires  ...  CAT II_Thé et café  \\\n0                                   0.0  ...                 0.0   \n1                                   0.0  ...                 0.0   \n2                                   0.0  ...                 0.0   \n3                                   0.0  ...                 0.0   \n4                                   0.0  ...                 0.0   \n\n   CAT II_Univers du Cigare  CAT II_Vêtements de cérémonie  \\\n0                       0.0                            0.0   \n1                       0.0                            0.0   \n2                       0.0                            0.0   \n3                       0.0                            0.0   \n4                       0.0                            0.0   \n\n   CAT II_Vêtements de nuit  CAT II_iPod et lecteurs MP3  city_A  city_B  \\\n0                       0.0                          0.0     1.0     0.0   \n1                       0.0                          0.0     1.0     0.0   \n2                       0.0                          0.0     1.0     0.0   \n3                       0.0                          0.0     1.0     0.0   \n4                       0.0                          0.0     1.0     0.0   \n\n   city_C  gender_female  gender_male  \n0     0.0            0.0          1.0  \n1     0.0            0.0          1.0  \n2     0.0            1.0          0.0  \n3     0.0            1.0          0.0  \n4     0.0            0.0          1.0  \n\n[5 rows x 87 columns]",
            "text/html": "<div>\n<style scoped>\n    .dataframe tbody tr th:only-of-type {\n        vertical-align: middle;\n    }\n\n    .dataframe tbody tr th {\n        vertical-align: top;\n    }\n\n    .dataframe thead th {\n        text-align: right;\n    }\n</style>\n<table border=\"1\" class=\"dataframe\">\n  <thead>\n    <tr style=\"text-align: right;\">\n      <th></th>\n      <th>revenue ( $ Algérien)</th>\n      <th>month_7</th>\n      <th>month_8</th>\n      <th>month_9</th>\n      <th>CAT I_Accessoire femmes</th>\n      <th>CAT I_Accessoires hommes</th>\n      <th>CAT I_Accessoires pour femmes</th>\n      <th>CAT I_Accessoires unisexes</th>\n      <th>CAT I_Appareils ménagers</th>\n      <th>CAT I_Appareils photo et accessoires</th>\n      <th>...</th>\n      <th>CAT II_Thé et café</th>\n      <th>CAT II_Univers du Cigare</th>\n      <th>CAT II_Vêtements de cérémonie</th>\n      <th>CAT II_Vêtements de nuit</th>\n      <th>CAT II_iPod et lecteurs MP3</th>\n      <th>city_A</th>\n      <th>city_B</th>\n      <th>city_C</th>\n      <th>gender_female</th>\n      <th>gender_male</th>\n    </tr>\n  </thead>\n  <tbody>\n    <tr>\n      <th>0</th>\n      <td>55251.0</td>\n      <td>1</td>\n      <td>0</td>\n      <td>0</td>\n      <td>1.0</td>\n      <td>0.0</td>\n      <td>0.0</td>\n      <td>0.0</td>\n      <td>0.0</td>\n      <td>0.0</td>\n      <td>...</td>\n      <td>0.0</td>\n      <td>0.0</td>\n      <td>0.0</td>\n      <td>0.0</td>\n      <td>0.0</td>\n      <td>1.0</td>\n      <td>0.0</td>\n      <td>0.0</td>\n      <td>0.0</td>\n      <td>1.0</td>\n    </tr>\n    <tr>\n      <th>1</th>\n      <td>2507330.0</td>\n      <td>4</td>\n      <td>0</td>\n      <td>1</td>\n      <td>1.0</td>\n      <td>0.0</td>\n      <td>0.0</td>\n      <td>0.0</td>\n      <td>0.0</td>\n      <td>0.0</td>\n      <td>...</td>\n      <td>0.0</td>\n      <td>0.0</td>\n      <td>0.0</td>\n      <td>0.0</td>\n      <td>0.0</td>\n      <td>1.0</td>\n      <td>0.0</td>\n      <td>0.0</td>\n      <td>0.0</td>\n      <td>1.0</td>\n    </tr>\n    <tr>\n      <th>2</th>\n      <td>510285.0</td>\n      <td>2</td>\n      <td>0</td>\n      <td>0</td>\n      <td>1.0</td>\n      <td>0.0</td>\n      <td>0.0</td>\n      <td>0.0</td>\n      <td>0.0</td>\n      <td>0.0</td>\n      <td>...</td>\n      <td>0.0</td>\n      <td>0.0</td>\n      <td>0.0</td>\n      <td>0.0</td>\n      <td>0.0</td>\n      <td>1.0</td>\n      <td>0.0</td>\n      <td>0.0</td>\n      <td>1.0</td>\n      <td>0.0</td>\n    </tr>\n    <tr>\n      <th>3</th>\n      <td>169893.0</td>\n      <td>2</td>\n      <td>0</td>\n      <td>0</td>\n      <td>1.0</td>\n      <td>0.0</td>\n      <td>0.0</td>\n      <td>0.0</td>\n      <td>0.0</td>\n      <td>0.0</td>\n      <td>...</td>\n      <td>0.0</td>\n      <td>0.0</td>\n      <td>0.0</td>\n      <td>0.0</td>\n      <td>0.0</td>\n      <td>1.0</td>\n      <td>0.0</td>\n      <td>0.0</td>\n      <td>1.0</td>\n      <td>0.0</td>\n    </tr>\n    <tr>\n      <th>4</th>\n      <td>6203.0</td>\n      <td>1</td>\n      <td>0</td>\n      <td>0</td>\n      <td>1.0</td>\n      <td>0.0</td>\n      <td>0.0</td>\n      <td>0.0</td>\n      <td>0.0</td>\n      <td>0.0</td>\n      <td>...</td>\n      <td>0.0</td>\n      <td>0.0</td>\n      <td>0.0</td>\n      <td>0.0</td>\n      <td>0.0</td>\n      <td>1.0</td>\n      <td>0.0</td>\n      <td>0.0</td>\n      <td>0.0</td>\n      <td>1.0</td>\n    </tr>\n  </tbody>\n</table>\n<p>5 rows × 87 columns</p>\n</div>"
          },
          "metadata": {}
        }
      ]
    },
    {
      "cell_type": "code",
      "source": [
        "test_data.head()\n",
        "test_data.info()"
      ],
      "metadata": {
        "execution": {
          "iopub.status.busy": "2023-02-25T07:31:21.735700Z",
          "iopub.execute_input": "2023-02-25T07:31:21.737353Z",
          "iopub.status.idle": "2023-02-25T07:31:21.767863Z",
          "shell.execute_reply.started": "2023-02-25T07:31:21.737293Z",
          "shell.execute_reply": "2023-02-25T07:31:21.766540Z"
        },
        "trusted": true,
        "id": "1u_vxsTh1Zss",
        "outputId": "6f651e5a-d1ff-4e02-f4c5-ebc2074f98be"
      },
      "execution_count": null,
      "outputs": [
        {
          "name": "stdout",
          "text": "<class 'pandas.core.frame.DataFrame'>\nRangeIndex: 4479 entries, 0 to 4478\nData columns (total 87 columns):\n #   Column                                           Non-Null Count  Dtype  \n---  ------                                           --------------  -----  \n 0   revenue ( $ Algérien)                            4479 non-null   float64\n 1   month_7                                          4479 non-null   uint8  \n 2   month_8                                          4479 non-null   uint8  \n 3   month_9                                          4479 non-null   uint8  \n 4   CAT I_Accessoire femmes                          4479 non-null   float64\n 5   CAT I_Accessoires hommes                         4479 non-null   float64\n 6   CAT I_Accessoires pour femmes                    4479 non-null   float64\n 7   CAT I_Accessoires unisexes                       4479 non-null   float64\n 8   CAT I_Appareils ménagers                         4479 non-null   float64\n 9   CAT I_Appareils photo et accessoires             4479 non-null   float64\n 10  CAT I_Automobile et motocycles                   4479 non-null   float64\n 11  CAT I_Beauté et parfums                          4479 non-null   float64\n 12  CAT I_Boissons                                   4479 non-null   float64\n 13  CAT I_Chaussures pour femmes                     4479 non-null   float64\n 14  CAT I_Chaussures pour hommes                     4479 non-null   float64\n 15  CAT I_Enfants et bébés                           4479 non-null   float64\n 16  CAT I_Filles                                     4479 non-null   float64\n 17  CAT I_Garçons                                    4479 non-null   float64\n 18  CAT I_Informatique                               4479 non-null   float64\n 19  CAT I_Instruments de musique                     4479 non-null   float64\n 20  CAT I_Jeux et consoles                           4479 non-null   float64\n 21  CAT I_Lessive                                    4479 non-null   float64\n 22  CAT I_Livres et papeterie                        4479 non-null   float64\n 23  CAT I_Maison                                     4479 non-null   float64\n 24  CAT I_Mariages                                   4479 non-null   float64\n 25  CAT I_Mode                                       4479 non-null   float64\n 26  CAT I_Placards alimentaires                      4479 non-null   float64\n 27  CAT I_Soins de la maison                         4479 non-null   float64\n 28  CAT I_Sport & Fitness                            4479 non-null   float64\n 29  CAT I_Tabac                                      4479 non-null   float64\n 30  CAT I_Tablettes et accessoires                   4479 non-null   float64\n 31  CAT I_Téléphones                                 4479 non-null   float64\n 32  CAT I_Téléviseurs, audio et vidéo                4479 non-null   float64\n 33  CAT I_Vêtements pour femmes                      4479 non-null   float64\n 34  CAT I_Vêtements pour hommes                      4479 non-null   float64\n 35  CAT II_Accessoires                               4479 non-null   float64\n 36  CAT II_Autre                                     4479 non-null   float64\n 37  CAT II_Autres appareils photo et accessoires     4479 non-null   float64\n 38  CAT II_Bagages et accessoires de voyage          4479 non-null   float64\n 39  CAT II_Baskets                                   4479 non-null   float64\n 40  CAT II_Bottes                                    4479 non-null   float64\n 41  CAT II_Bébé                                      4479 non-null   float64\n 42  CAT II_Carrosserie                               4479 non-null   float64\n 43  CAT II_Chaussettes                               4479 non-null   float64\n 44  CAT II_Chaussures                                4479 non-null   float64\n 45  CAT II_Chaussures de sport                       4479 non-null   float64\n 46  CAT II_Combinaison                               4479 non-null   float64\n 47  CAT II_Consoles                                  4479 non-null   float64\n 48  CAT II_Costumes et accessoires                   4479 non-null   float64\n 49  CAT II_Couche                                    4479 non-null   float64\n 50  CAT II_Cuisine                                   4479 non-null   float64\n 51  CAT II_Cuisine et pâtisserie                     4479 non-null   float64\n 52  CAT II_Détergent en poudre                       4479 non-null   float64\n 53  CAT II_Fitness                                   4479 non-null   float64\n 54  CAT II_Fournitures                               4479 non-null   float64\n 55  CAT II_Grils et cuisine en plein air             4479 non-null   float64\n 56  CAT II_Jeans et jeggings                         4479 non-null   float64\n 57  CAT II_Jeux rétro                                4479 non-null   float64\n 58  CAT II_Lait                                      4479 non-null   float64\n 59  CAT II_Laptop                                    4479 non-null   float64\n 60  CAT II_Livres en langues étrangères              4479 non-null   float64\n 61  CAT II_Lunettes                                  4479 non-null   float64\n 62  CAT II_Lunettes de soleil                        4479 non-null   float64\n 63  CAT II_Meubles                                   4479 non-null   float64\n 64  CAT II_Motos                                     4479 non-null   float64\n 65  CAT II_Outils de nettoyage                       4479 non-null   float64\n 66  CAT II_Pain et boulangerie                       4479 non-null   float64\n 67  CAT II_Papier et plastique                       4479 non-null   float64\n 68  CAT II_Polos                                     4479 non-null   float64\n 69  CAT II_Projecteurs                               4479 non-null   float64\n 70  CAT II_Robes                                     4479 non-null   float64\n 71  CAT II_Réfrigérateurs et congélateurs            4479 non-null   float64\n 72  CAT II_Sacs                                      4479 non-null   float64\n 73  CAT II_Shorts                                    4479 non-null   float64\n 74  CAT II_Smartphone                                4479 non-null   float64\n 75  CAT II_Soins des mains, des pieds et des ongles  4479 non-null   float64\n 76  CAT II_Talons                                    4479 non-null   float64\n 77  CAT II_Thé et café                               4479 non-null   float64\n 78  CAT II_Univers du Cigare                         4479 non-null   float64\n 79  CAT II_Vêtements de cérémonie                    4479 non-null   float64\n 80  CAT II_Vêtements de nuit                         4479 non-null   float64\n 81  CAT II_iPod et lecteurs MP3                      4479 non-null   float64\n 82  city_A                                           4479 non-null   float64\n 83  city_B                                           4479 non-null   float64\n 84  city_C                                           4479 non-null   float64\n 85  gender_female                                    4479 non-null   float64\n 86  gender_male                                      4479 non-null   float64\ndtypes: float64(84), uint8(3)\nmemory usage: 2.9 MB\n",
          "output_type": "stream"
        }
      ]
    },
    {
      "cell_type": "code",
      "source": [
        "from sklearn.model_selection import train_test_split\n",
        "\n",
        "X_train,X_test,Y_train,Y_test = train_test_split(train_data,y,test_size=0.2,random_state=0)"
      ],
      "metadata": {
        "execution": {
          "iopub.status.busy": "2023-02-25T07:31:39.758604Z",
          "iopub.execute_input": "2023-02-25T07:31:39.759891Z",
          "iopub.status.idle": "2023-02-25T07:31:39.775764Z",
          "shell.execute_reply.started": "2023-02-25T07:31:39.759842Z",
          "shell.execute_reply": "2023-02-25T07:31:39.774416Z"
        },
        "trusted": true,
        "id": "ZBxP6_Lz1Zss"
      },
      "execution_count": null,
      "outputs": []
    },
    {
      "cell_type": "code",
      "source": [
        "from sklearn import tree\n",
        "from sklearn.model_selection import cross_val_score\n",
        "from sklearn.neighbors import KNeighborsClassifier\n",
        "from sklearn.linear_model import LogisticRegression\n",
        "\n",
        "# Train KNeighborsClassifier Model\n",
        "KNN_Classifier = KNeighborsClassifier(n_jobs=-1)\n",
        "KNN_Classifier.fit(X_train, Y_train); \n",
        "\n",
        "# Train LogisticRegression Model\n",
        "LGR_Classifier = LogisticRegression(n_jobs=-1, random_state=0)\n",
        "LGR_Classifier.fit(X_train, Y_train);\n",
        "\n",
        "            \n",
        "# Train Decision Tree Model\n",
        "DTC_Classifier = tree.DecisionTreeClassifier(criterion='entropy', random_state=0)\n",
        "DTC_Classifier.fit(X_train, Y_train)"
      ],
      "metadata": {
        "execution": {
          "iopub.status.busy": "2023-02-25T07:31:51.669762Z",
          "iopub.execute_input": "2023-02-25T07:31:51.670245Z",
          "iopub.status.idle": "2023-02-25T07:31:52.840922Z",
          "shell.execute_reply.started": "2023-02-25T07:31:51.670205Z",
          "shell.execute_reply": "2023-02-25T07:31:52.839564Z"
        },
        "trusted": true,
        "id": "b8dHp4S21Zst",
        "outputId": "bfca5b1b-eaab-48b5-b3f1-d2d3e04206a3"
      },
      "execution_count": null,
      "outputs": [
        {
          "execution_count": 196,
          "output_type": "execute_result",
          "data": {
            "text/plain": "DecisionTreeClassifier(criterion='entropy', random_state=0)"
          },
          "metadata": {}
        }
      ]
    },
    {
      "cell_type": "code",
      "source": [
        "from sklearn import metrics\n",
        "\n",
        "models = []\n",
        "\n",
        "models.append(('Decision Tree Classifier', DTC_Classifier))\n",
        "models.append(('KNeighborsClassifier', KNN_Classifier))\n",
        "models.append(('LogisticRegression', LGR_Classifier))"
      ],
      "metadata": {
        "execution": {
          "iopub.status.busy": "2023-02-25T07:31:54.140351Z",
          "iopub.execute_input": "2023-02-25T07:31:54.140849Z",
          "iopub.status.idle": "2023-02-25T07:31:54.147384Z",
          "shell.execute_reply.started": "2023-02-25T07:31:54.140800Z",
          "shell.execute_reply": "2023-02-25T07:31:54.146279Z"
        },
        "trusted": true,
        "id": "2Xk-_W_E1Zst"
      },
      "execution_count": null,
      "outputs": []
    },
    {
      "cell_type": "code",
      "source": [
        "for i, v in models:\n",
        "    accuracy = metrics.accuracy_score(Y_test, v.predict(X_test))\n",
        "    confusion_matrix = metrics.confusion_matrix(Y_test, v.predict(X_test))\n",
        "    classification = metrics.classification_report(Y_test, v.predict(X_test))\n",
        "    print()\n",
        "    print('============================== {} Model Test Results =============================='.format(i))\n",
        "    print()\n",
        "    print (\"Model Accuracy:\" \"\\n\", accuracy)\n",
        "    print()\n",
        "    print(\"Confusion matrix:\" \"\\n\", confusion_matrix)\n",
        "    print()\n",
        "    print(\"Classification report:\" \"\\n\", classification) \n",
        "    print() "
      ],
      "metadata": {
        "execution": {
          "iopub.status.busy": "2023-02-25T07:31:57.335837Z",
          "iopub.execute_input": "2023-02-25T07:31:57.336286Z",
          "iopub.status.idle": "2023-02-25T07:32:00.636670Z",
          "shell.execute_reply.started": "2023-02-25T07:31:57.336247Z",
          "shell.execute_reply": "2023-02-25T07:32:00.631659Z"
        },
        "trusted": true,
        "id": "zja8trAy1Zst",
        "outputId": "1b8418f1-fb17-4114-83ea-8974f6816ce7"
      },
      "execution_count": null,
      "outputs": [
        {
          "name": "stdout",
          "text": "\n============================== Decision Tree Classifier Model Test Results ==============================\n\nModel Accuracy:\n 0.8326605504587156\n\nConfusion matrix:\n [[1395  250]\n [ 206  874]]\n\nClassification report:\n               precision    recall  f1-score   support\n\n           0       0.87      0.85      0.86      1645\n           1       0.78      0.81      0.79      1080\n\n    accuracy                           0.83      2725\n   macro avg       0.82      0.83      0.83      2725\nweighted avg       0.83      0.83      0.83      2725\n\n\n\n============================== KNeighborsClassifier Model Test Results ==============================\n\nModel Accuracy:\n 0.7262385321100917\n\nConfusion matrix:\n [[1321  324]\n [ 422  658]]\n\nClassification report:\n               precision    recall  f1-score   support\n\n           0       0.76      0.80      0.78      1645\n           1       0.67      0.61      0.64      1080\n\n    accuracy                           0.73      2725\n   macro avg       0.71      0.71      0.71      2725\nweighted avg       0.72      0.73      0.72      2725\n\n\n\n============================== LogisticRegression Model Test Results ==============================\n\nModel Accuracy:\n 0.3963302752293578\n\nConfusion matrix:\n [[   0 1645]\n [   0 1080]]\n\nClassification report:\n               precision    recall  f1-score   support\n\n           0       0.00      0.00      0.00      1645\n           1       0.40      1.00      0.57      1080\n\n    accuracy                           0.40      2725\n   macro avg       0.20      0.50      0.28      2725\nweighted avg       0.16      0.40      0.22      2725\n\n\n",
          "output_type": "stream"
        },
        {
          "name": "stderr",
          "text": "/opt/conda/lib/python3.7/site-packages/sklearn/metrics/_classification.py:1318: UndefinedMetricWarning: Precision and F-score are ill-defined and being set to 0.0 in labels with no predicted samples. Use `zero_division` parameter to control this behavior.\n  _warn_prf(average, modifier, msg_start, len(result))\n/opt/conda/lib/python3.7/site-packages/sklearn/metrics/_classification.py:1318: UndefinedMetricWarning: Precision and F-score are ill-defined and being set to 0.0 in labels with no predicted samples. Use `zero_division` parameter to control this behavior.\n  _warn_prf(average, modifier, msg_start, len(result))\n/opt/conda/lib/python3.7/site-packages/sklearn/metrics/_classification.py:1318: UndefinedMetricWarning: Precision and F-score are ill-defined and being set to 0.0 in labels with no predicted samples. Use `zero_division` parameter to control this behavior.\n  _warn_prf(average, modifier, msg_start, len(result))\n",
          "output_type": "stream"
        }
      ]
    },
    {
      "cell_type": "code",
      "source": [
        "from sklearn.ensemble import RandomForestClassifier\n",
        "\n",
        "rf_clf = RandomForestClassifier()\n",
        "rf_clf.fit(X_train, Y_train)\n",
        "accuracy = metrics.accuracy_score(Y_test, rf_clf.predict(X_test))\n",
        "confusion_matrix = metrics.confusion_matrix(Y_test, rf_clf.predict(X_test))\n",
        "classification = metrics.classification_report(Y_test, rf_clf.predict(X_test))\n",
        "print()\n",
        "print (\"Model Accuracy:\" \"\\n\", accuracy)\n",
        "print()\n",
        "print(\"Confusion matrix:\" \"\\n\", confusion_matrix)\n",
        "print()\n",
        "print(\"Classification report:\" \"\\n\", classification) \n",
        "print() "
      ],
      "metadata": {
        "execution": {
          "iopub.status.busy": "2023-02-25T07:32:06.428365Z",
          "iopub.execute_input": "2023-02-25T07:32:06.428860Z",
          "iopub.status.idle": "2023-02-25T07:32:08.517523Z",
          "shell.execute_reply.started": "2023-02-25T07:32:06.428819Z",
          "shell.execute_reply": "2023-02-25T07:32:08.516024Z"
        },
        "trusted": true,
        "id": "VclIBptQ1Zsu",
        "outputId": "c920b9fe-918d-4eb7-c289-f4a90e9ad201"
      },
      "execution_count": null,
      "outputs": [
        {
          "name": "stdout",
          "text": "\nModel Accuracy:\n 0.8315596330275229\n\nConfusion matrix:\n [[1405  240]\n [ 219  861]]\n\nClassification report:\n               precision    recall  f1-score   support\n\n           0       0.87      0.85      0.86      1645\n           1       0.78      0.80      0.79      1080\n\n    accuracy                           0.83      2725\n   macro avg       0.82      0.83      0.82      2725\nweighted avg       0.83      0.83      0.83      2725\n\n\n",
          "output_type": "stream"
        }
      ]
    },
    {
      "cell_type": "code",
      "source": [
        "from sklearn.svm import SVC\n",
        "\n",
        "svm_clf = SVC(kernel='rbf', C=2, gamma='scale')\n",
        "svm_clf.fit(X_train, Y_train)\n",
        "accuracy = metrics.accuracy_score(Y_test, svm_clf.predict(X_test))\n",
        "confusion_matrix = metrics.confusion_matrix(Y_test, svm_clf.predict(X_test))\n",
        "classification = metrics.classification_report(Y_test, svm_clf.predict(X_test))\n",
        "print()\n",
        "print (\"Model Accuracy:\" \"\\n\", accuracy)\n",
        "print()\n",
        "print(\"Confusion matrix:\" \"\\n\", confusion_matrix)\n",
        "print()\n",
        "print(\"Classification report:\" \"\\n\", classification) \n",
        "print() "
      ],
      "metadata": {
        "execution": {
          "iopub.status.busy": "2023-02-25T07:32:12.803000Z",
          "iopub.execute_input": "2023-02-25T07:32:12.804554Z",
          "iopub.status.idle": "2023-02-25T07:32:29.650165Z",
          "shell.execute_reply.started": "2023-02-25T07:32:12.804491Z",
          "shell.execute_reply": "2023-02-25T07:32:29.648811Z"
        },
        "trusted": true,
        "id": "x7Obh79B1Zsu",
        "outputId": "48ee9bfe-4aca-4608-d5b6-5282756f0651"
      },
      "execution_count": null,
      "outputs": [
        {
          "name": "stdout",
          "text": "\nModel Accuracy:\n 0.7453211009174312\n\nConfusion matrix:\n [[1450  195]\n [ 499  581]]\n\nClassification report:\n               precision    recall  f1-score   support\n\n           0       0.74      0.88      0.81      1645\n           1       0.75      0.54      0.63      1080\n\n    accuracy                           0.75      2725\n   macro avg       0.75      0.71      0.72      2725\nweighted avg       0.75      0.75      0.74      2725\n\n\n",
          "output_type": "stream"
        }
      ]
    },
    {
      "cell_type": "code",
      "source": [
        "test_data= test_data.fillna(test.median())\n",
        "pred =rf_clf.predict(test_data)"
      ],
      "metadata": {
        "execution": {
          "iopub.status.busy": "2023-02-25T07:32:29.652278Z",
          "iopub.execute_input": "2023-02-25T07:32:29.653361Z",
          "iopub.status.idle": "2023-02-25T07:32:29.785531Z",
          "shell.execute_reply.started": "2023-02-25T07:32:29.653309Z",
          "shell.execute_reply": "2023-02-25T07:32:29.784258Z"
        },
        "trusted": true,
        "id": "d9LSDH9t1Zsv",
        "outputId": "305161c3-38d9-4d2b-fd4a-d1d15002d4c1"
      },
      "execution_count": null,
      "outputs": [
        {
          "name": "stderr",
          "text": "/opt/conda/lib/python3.7/site-packages/ipykernel_launcher.py:1: FutureWarning: Dropping of nuisance columns in DataFrame reductions (with 'numeric_only=None') is deprecated; in a future version this will raise TypeError.  Select only valid columns before calling the reduction.\n  \"\"\"Entry point for launching an IPython kernel.\n",
          "output_type": "stream"
        }
      ]
    },
    {
      "cell_type": "code",
      "source": [
        "rop = pd.DataFrame(pred,columns = ['cat'],index=Cat2)\n",
        "rop['cat'] = rop['cat'].replace({1:'buy', 0:'not buy'})\n",
        "rop.to_csv('jumiacat_item.csv', index=True)"
      ],
      "metadata": {
        "execution": {
          "iopub.status.busy": "2023-02-25T07:50:47.108269Z",
          "iopub.execute_input": "2023-02-25T07:50:47.108958Z",
          "iopub.status.idle": "2023-02-25T07:50:47.122015Z",
          "shell.execute_reply.started": "2023-02-25T07:50:47.108914Z",
          "shell.execute_reply": "2023-02-25T07:50:47.120932Z"
        },
        "trusted": true,
        "id": "dJmK4yQK1Zsw"
      },
      "execution_count": null,
      "outputs": []
    },
    {
      "cell_type": "code",
      "source": [
        "rop['cat'].value_counts()"
      ],
      "metadata": {
        "execution": {
          "iopub.status.busy": "2023-02-25T07:49:15.277109Z",
          "iopub.execute_input": "2023-02-25T07:49:15.277551Z",
          "iopub.status.idle": "2023-02-25T07:49:15.290597Z",
          "shell.execute_reply.started": "2023-02-25T07:49:15.277512Z",
          "shell.execute_reply": "2023-02-25T07:49:15.289127Z"
        },
        "trusted": true,
        "id": "Ku3BBaYo1Zsw",
        "outputId": "f2a8f765-3e83-40d8-fc38-69513419d5a4"
      },
      "execution_count": null,
      "outputs": [
        {
          "execution_count": 210,
          "output_type": "execute_result",
          "data": {
            "text/plain": "notbuy    3946\nbuy        533\nName: cat, dtype: int64"
          },
          "metadata": {}
        }
      ]
    }
  ]
}